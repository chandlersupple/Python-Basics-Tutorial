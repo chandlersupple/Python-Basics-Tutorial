{
 "cells": [
  {
   "cell_type": "code",
   "execution_count": null,
   "metadata": {},
   "outputs": [],
   "source": [
    "lesson = 'Lesson 1: Data-structures, Data-types, Syntax, and Built-in Functions'\n",
    "print(lesson)"
   ]
  },
  {
   "cell_type": "code",
   "execution_count": 4,
   "metadata": {},
   "outputs": [],
   "source": [
    "# To write a comment, begin with '#', and the following will be bypassed during execution"
   ]
  },
  {
   "cell_type": "code",
   "execution_count": 5,
   "metadata": {},
   "outputs": [],
   "source": [
    "# Data-Types\n",
    "x = 1 # Integer -- No decimals\n",
    "y = 3/2 # Float (Floating-Point Value) -- Has decimals, Precision varies\n",
    "z = 'Blah Blah Blah' # String -- Characters encased with ' ' or \" \""
   ]
  },
  {
   "cell_type": "code",
   "execution_count": null,
   "metadata": {},
   "outputs": [],
   "source": [
    "# Variables\n",
    "var = 'value' # Variables hold some value, be it an integer, float, or string\n",
    "var1 = 'value' # Variable names can be letters, numbers, and punctuation\n",
    "2var = 'value' # Variable names cannot begin with a number"
   ]
  },
  {
   "cell_type": "code",
   "execution_count": 9,
   "metadata": {},
   "outputs": [],
   "source": [
    "# Errors\n",
    "error = 'an error occurs when a user makes a syntax error or passes an invalid argument'\n",
    "# You'll encounter quite a few as a programmer :)"
   ]
  },
  {
   "cell_type": "code",
   "execution_count": 10,
   "metadata": {},
   "outputs": [],
   "source": [
    "# Operations\n",
    "a = 5 + 5 # Addition\n",
    "b = 5 - 5 # Subtraction\n",
    "c = 5 / 5 # Division\n",
    "d = 5 * 5 # Multiplication\n",
    "e = 5**2 # Powers (5^2)"
   ]
  },
  {
   "cell_type": "code",
   "execution_count": 12,
   "metadata": {},
   "outputs": [],
   "source": [
    "# Data-types\n",
    "l = [1, x, 3, 'value', 5] # List\n",
    "d = {'key': 5} # Dictionary -- We'll discuss the dictionary at depth later\n",
    "t = (1, d, 3, 4, 'value', x) # Tuple -- Just like list, although v\"alues cannot be changed "
   ]
  },
  {
   "cell_type": "code",
   "execution_count": null,
   "metadata": {},
   "outputs": [],
   "source": [
    "# Built-on Functions\n",
    "\n",
    "arg = 'Hello World'\n",
    "print(arg) # The 'print' function accepts a string or number\n",
    "print('I just printed %s!' %(arg)) # The value of a variable can printed with %s\n",
    "\n",
    "v = 13.43344\n",
    "f = int(v) # 'int' rounds a value to an integer\n",
    "t = str(v) # 'str' converts a value to a string\n",
    "print(f)\n",
    "print(t)\n",
    "\n",
    "m = [0, 1, 2, 3, 4, 5, 6, 7, 8]\n",
    "m_len = len(m) # 'len' determines the length of a list\n",
    "print(m_len)"
   ]
  },
  {
   "cell_type": "code",
   "execution_count": null,
   "metadata": {},
   "outputs": [],
   "source": [
    "# If\n",
    "date = '5/25/18'\n",
    "if date == '5/25/18':\n",
    "    print('Happy Birthday!')"
   ]
  },
  {
   "cell_type": "code",
   "execution_count": null,
   "metadata": {},
   "outputs": [],
   "source": [
    "# For\n",
    "g = [0, 1, 2, 3, 4, 5, 6, 7, 8]\n",
    "print(\"'g' has a length of %s\" %(len(g)))\n",
    "for term in range(len(g)): # Term is a variable which will have a dynamic value\n",
    "    print(term) # The 'for' loop will add 1 to 'term' on every pass until 'term' is equal to len(g)"
   ]
  }
 ],
 "metadata": {
  "kernelspec": {
   "display_name": "Python 3",
   "language": "python",
   "name": "python3"
  },
  "language_info": {
   "codemirror_mode": {
    "name": "ipython",
    "version": 3
   },
   "file_extension": ".py",
   "mimetype": "text/x-python",
   "name": "python",
   "nbconvert_exporter": "python",
   "pygments_lexer": "ipython3",
   "version": "3.6.6"
  }
 },
 "nbformat": 4,
 "nbformat_minor": 2
}
